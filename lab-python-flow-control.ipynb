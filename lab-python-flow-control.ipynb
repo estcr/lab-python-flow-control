{
 "cells": [
  {
   "cell_type": "markdown",
   "id": "d3bfc191-8885-42ee-b0a0-bbab867c6f9f",
   "metadata": {
    "tags": []
   },
   "source": [
    "# Lab | Flow Control"
   ]
  },
  {
   "cell_type": "markdown",
   "id": "3851fcd1-cf98-4653-9c89-e003b7ec9400",
   "metadata": {},
   "source": [
    "## Exercise: Managing Customer Orders Optimized\n",
    "\n",
    "In the last lab, you were starting an online store that sells various products. To ensure smooth operations, you developed a program that manages customer orders and inventory.\n",
    "\n",
    "You did so without using flow control. Let's go a step further and improve this code.\n",
    "\n",
    "Follow the steps below to complete the exercise:\n",
    "\n",
    "1. Look at your code from the lab data structures, and improve repeated code with loops.\n",
    "\n",
    "2. Instead of asking the user to input the name of three products that a customer wants to order, do the following:\n",
    "    \n",
    "    a. Prompt the user to enter the name of a product that a customer wants to order.\n",
    "    \n",
    "    b. Add the product name to the \"customer_orders\" set.\n",
    "    \n",
    "    c. Ask the user if they want to add another product (yes/no).\n",
    "    \n",
    "    d. Continue the loop until the user does not want to add another product.\n",
    "\n",
    "3. Instead of updating the inventory by subtracting 1 from the quantity of each product, only do it for  the products that were ordered (those in \"customer_orders\")."
   ]
  },
  {
   "cell_type": "code",
   "execution_count": null,
   "id": "b4c28813",
   "metadata": {},
   "outputs": [
    {
     "name": "stdout",
     "output_type": "stream",
     "text": [
      "inventario inicial:  {'t-shirt': 5, 'mug': 5, 'hat': 5, 'book': 5, 'keychain': 5}\n",
      "Producto agregado al pedido\n",
      "Respuesta no valida, por favor responde si o no\n",
      "Respuesta no valida, por favor responde si o no\n",
      "Producto agregado al pedido\n",
      "Producto agregado al pedido\n",
      "Tu pedido es: {'hat', 'book', 'mug'}\n",
      "Order Statistics:\n",
      "Total products ordered: 3\n",
      "Percentage of products ordered: 12.0%\n",
      "Inventario actualizado: {'t-shirt': 5, 'mug': 4, 'hat': 4, 'book': 4, 'keychain': 5}\n"
     ]
    }
   ],
   "source": [
    "#Se crea la lista de productos\n",
    "products = [\"t-shirt\", \"mug\", \"hat\", \"book\", \"keychain\"]\n",
    "\n",
    "#Luego creo un diccionario para el inventario\n",
    "inventory = {}\n",
    "\n",
    "#Hago un for loop para itinerar sobre cada producto donde se agrega el stock de los mismos enviando todo al diccionario vacio previamente creado.\n",
    "for product in products:\n",
    "    stock = int(input(f\"Cual es la cantidad de stock del {product}: ?\"))\n",
    "    inventory[product] = stock\n",
    "\n",
    "#Corroboro que se haya creado bien el inventario-\n",
    "print(\"inventario inicial: \", inventory)\n",
    "\n",
    "#Creo un set para el predido\n",
    "customer_orders = set()\n",
    "\n",
    "#Genero un while loop para el ingreso de los pedidos\n",
    "status = True\n",
    "\n",
    "while status:\n",
    "    producto = input(f\"Ingresa el producto de la siguiente lista {products} para confirmar tu pedido\")\n",
    "    if producto in products:\n",
    "        customer_orders.add(producto)\n",
    "        print(\"Producto agregado al pedido\")\n",
    "    else:\n",
    "        print(\"El producto no esta en la lista\")\n",
    "    while True:\n",
    "        respuesta = input(\"Quieres agregar otro producto si o no?\")\n",
    "        if respuesta.lower()== \"no\":\n",
    "            status= False\n",
    "        elif respuesta.lower() == \"si\":\n",
    "            break\n",
    "        else:\n",
    "            print(\"Respuesta no valida, por favor responde si o no\")\n",
    "\n",
    "#Hago una impresion del pedido realizado\n",
    "print(\"Tu pedido es:\", customer_orders)\n",
    "\n",
    "#Creo unas variables solicitadas para realizar luego las impresiones solicitadas\n",
    "totalproducts = len(customer_orders)\n",
    "totalinventory = sum(inventory.values())\n",
    "percentageordered = round((totalproducts / totalinventory) * 100, 2)\n",
    "\n",
    "print(\"Order Statistics:\")\n",
    "print(f\"Total products ordered: {totalproducts}\")\n",
    "print(f\"Percentage of products ordered: {percentageordered}%\")\n",
    "\n",
    "#Actualizo el estado del inventario segun el pedido realizado\n",
    "\n",
    "for producto in customer_orders:\n",
    "    inventory[producto] -= 1  # Resta 1 del inventario para cada producto pedido\n",
    "\n",
    "print(\"Inventario actualizado:\", inventory)\n"
   ]
  }
 ],
 "metadata": {
  "kernelspec": {
   "display_name": "Python 3",
   "language": "python",
   "name": "python3"
  },
  "language_info": {
   "codemirror_mode": {
    "name": "ipython",
    "version": 3
   },
   "file_extension": ".py",
   "mimetype": "text/x-python",
   "name": "python",
   "nbconvert_exporter": "python",
   "pygments_lexer": "ipython3",
   "version": "3.11.4"
  }
 },
 "nbformat": 4,
 "nbformat_minor": 5
}
